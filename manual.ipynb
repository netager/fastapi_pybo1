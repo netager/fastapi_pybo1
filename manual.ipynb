{
 "cells": [
  {
   "cell_type": "markdown",
   "metadata": {},
   "source": [
    "## 모델을 이용해 테이블 자동으로 생성하기\n",
    "\n",
    "### alembic 설치\n",
    "\n",
    "```bash\n",
    "pip install alembic\n",
    "```\n",
    "\n",
    "### alembic 초기화\n",
    "```bash\n",
    "alembic init migrations\n",
    "```\n",
    "\n",
    "### alembic.ini 파일 수정\n",
    "\n",
    "### migrations/env.py 파일 수정\n",
    "\n",
    "### 리비전 파일 생성하기\n",
    "```bash\n",
    "alembic revision --autogenerate\n",
    "```\n",
    "\n",
    "### 리비전 파일 실행하기\n",
    "```bash\n",
    "alembic upgrade head\n",
    "```\n",
    "\n",
    "### svelte-spa-router 설치하기\n",
    "```bash\n",
    "frontend % npm install svelte-spa-router\n",
    "```\n",
    "\n",
    "\n",
    "## 프론트엔드 빌드\n",
    "```bash\n",
    "npm run build\n",
    "```\n"
   ]
  }
 ],
 "metadata": {
  "language_info": {
   "name": "python"
  }
 },
 "nbformat": 4,
 "nbformat_minor": 2
}
